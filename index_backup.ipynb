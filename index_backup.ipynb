{
 "cells": [
  {
   "cell_type": "code",
   "execution_count": 3,
   "id": "8aedce13-2e1d-4c94-9e0e-c89b950cd2e9",
   "metadata": {},
   "outputs": [],
   "source": [
    "import ipywidgets as widgets\n",
    "from IPython.display import display\n"
   ]
  },
  {
   "cell_type": "code",
   "execution_count": 4,
   "id": "57572ba9-b3d5-4ece-af0f-67a1c5103db5",
   "metadata": {},
   "outputs": [],
   "source": [
    "# Define a function to update the output based on the slider value\n",
    "def update_output(change):\n",
    "    with output:\n",
    "        output.clear_output()  # Clear previous output\n",
    "        x = change['new']      # Get the new slider value\n",
    "        print(f\"x^2 = {x**2}\")  # Compute and print x^2"
   ]
  },
  {
   "cell_type": "code",
   "execution_count": 5,
   "id": "d6c4a40d-e19d-42f6-a877-98aaa3e0a675",
   "metadata": {},
   "outputs": [],
   "source": [
    "# Create the slider widget\n",
    "slider = widgets.IntSlider(\n",
    "    value=0,          # Initial value\n",
    "    min=0,            # Minimum value\n",
    "    max=100,          # Maximum value\n",
    "    step=1,           # Step size\n",
    "    description='x:', # Description displayed alongside the slider\n",
    ")\n",
    "\n",
    "# Create an output widget to display the result\n",
    "output = widgets.Output()\n",
    "\n",
    "# Attach the update_output function to changes in the slider value\n",
    "slider.observe(update_output, names='value')\n",
    "\n",
    "\n"
   ]
  },
  {
   "cell_type": "code",
   "execution_count": 8,
   "id": "78e0dee3-56b6-419b-826f-971f9170e62b",
   "metadata": {},
   "outputs": [
    {
     "name": "stdout",
     "output_type": "stream",
     "text": [
      "Please set x on the slider, and it will show you the result for x^2\n"
     ]
    },
    {
     "data": {
      "application/vnd.jupyter.widget-view+json": {
       "model_id": "34f9673fc4544e5abc24a491935da163",
       "version_major": 2,
       "version_minor": 0
      },
      "text/plain": [
       "IntSlider(value=0, description='x:')"
      ]
     },
     "metadata": {},
     "output_type": "display_data"
    },
    {
     "data": {
      "application/vnd.jupyter.widget-view+json": {
       "model_id": "b5e64208692547c3af467fe1e8cebc88",
       "version_major": 2,
       "version_minor": 0
      },
      "text/plain": [
       "Output(outputs=({'name': 'stdout', 'text': 'x^2 = 0\\n', 'output_type': 'stream'},))"
      ]
     },
     "metadata": {},
     "output_type": "display_data"
    }
   ],
   "source": [
    "# Display the slider and output\n",
    "print('Please set x on the slider, and it will show you the result for x^2')\n",
    "display(slider, output)"
   ]
  }
 ],
 "metadata": {
  "kernelspec": {
   "display_name": "Python 3 (ipykernel)",
   "language": "python",
   "name": "python3"
  },
  "language_info": {
   "codemirror_mode": {
    "name": "ipython",
    "version": 3
   },
   "file_extension": ".py",
   "mimetype": "text/x-python",
   "name": "python",
   "nbconvert_exporter": "python",
   "pygments_lexer": "ipython3",
   "version": "3.10.14"
  }
 },
 "nbformat": 4,
 "nbformat_minor": 5
}
